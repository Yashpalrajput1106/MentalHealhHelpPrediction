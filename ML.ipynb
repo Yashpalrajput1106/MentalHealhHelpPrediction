{
 "cells": [
  {
   "cell_type": "code",
   "execution_count": 3,
   "id": "100c1e40-af3a-45a0-bcc6-4727737b0beb",
   "metadata": {},
   "outputs": [
    {
     "name": "stdout",
     "output_type": "stream",
     "text": [
      " KNN Accuracy: 0.548\n",
      " Decision Tree Accuracy: 0.548\n",
      " Naive Bayes Accuracy: 0.596\n"
     ]
    }
   ],
   "source": [
    "# Step 1: Import required libraries\n",
    "import pandas as pd\n",
    "from sklearn.model_selection import train_test_split\n",
    "from sklearn.preprocessing import LabelEncoder, StandardScaler\n",
    "from sklearn.neighbors import KNeighborsClassifier\n",
    "from sklearn.tree import DecisionTreeClassifier\n",
    "from sklearn.naive_bayes import GaussianNB\n",
    "from sklearn.metrics import accuracy_score, classification_report\n",
    "\n",
    "# Step 2: Load dataset (use your path from Drive)\n",
    "path = 'survey.csv'  # Update if needed\n",
    "df = pd.read_csv(path)\n",
    "\n",
    "# Step 3: Select relevant columns\n",
    "df = df[['Age', 'Gender', 'family_history', 'benefits', 'care_options', 'anonymity', 'seek_help']]\n",
    "df = df.dropna()  # Drop missing values\n",
    "df = df[df['Age'].between(18, 65)]  # Filter sensible ages\n",
    "\n",
    "# Step 4: Encode categorical variables\n",
    "le = LabelEncoder()\n",
    "for col in df.columns:\n",
    "    if df[col].dtype == 'object':\n",
    "        df[col] = le.fit_transform(df[col])\n",
    "\n",
    "# Step 5: Split data\n",
    "X = df.drop('seek_help', axis=1)\n",
    "y = df['seek_help']\n",
    "X_train, X_test, y_train, y_test = train_test_split(X, y, test_size=0.2, random_state=42)\n",
    "\n",
    "# Step 6: KNN Classifier\n",
    "knn = KNeighborsClassifier(n_neighbors=5)\n",
    "knn.fit(X_train, y_train)\n",
    "knn_pred = knn.predict(X_test)\n",
    "print(\" KNN Accuracy:\", accuracy_score(y_test, knn_pred))\n",
    "\n",
    "# Step 7: Decision Tree Classifier\n",
    "dt = DecisionTreeClassifier()\n",
    "dt.fit(X_train, y_train)\n",
    "dt_pred = dt.predict(X_test)\n",
    "print(\" Decision Tree Accuracy:\", accuracy_score(y_test, dt_pred))\n",
    "\n",
    "# Step 8: Naive Bayes Classifier\n",
    "nb = GaussianNB()\n",
    "nb.fit(X_train, y_train)\n",
    "nb_pred = nb.predict(X_test)\n",
    "print(\" Naive Bayes Accuracy:\", accuracy_score(y_test, nb_pred))\n"
   ]
  },
  {
   "cell_type": "code",
   "execution_count": 4,
   "id": "d2f88e9e-ff61-45b3-8a8a-cd0a3453777d",
   "metadata": {},
   "outputs": [
    {
     "name": "stdout",
     "output_type": "stream",
     "text": [
      "\n",
      " KNN Report:\n",
      "               precision    recall  f1-score   support\n",
      "\n",
      "           0       0.44      0.41      0.43        80\n",
      "           1       0.59      0.74      0.66       124\n",
      "           2       0.60      0.26      0.36        46\n",
      "\n",
      "    accuracy                           0.55       250\n",
      "   macro avg       0.54      0.47      0.48       250\n",
      "weighted avg       0.55      0.55      0.53       250\n",
      "\n",
      "\n",
      " Decision Tree Report:\n",
      "               precision    recall  f1-score   support\n",
      "\n",
      "           0       0.45      0.56      0.50        80\n",
      "           1       0.67      0.64      0.65       124\n",
      "           2       0.39      0.28      0.33        46\n",
      "\n",
      "    accuracy                           0.55       250\n",
      "   macro avg       0.51      0.49      0.49       250\n",
      "weighted avg       0.55      0.55      0.55       250\n",
      "\n",
      "\n",
      " Naive Bayes Report:\n",
      "               precision    recall  f1-score   support\n",
      "\n",
      "           0       0.55      0.47      0.51        80\n",
      "           1       0.65      0.65      0.65       124\n",
      "           2       0.53      0.67      0.60        46\n",
      "\n",
      "    accuracy                           0.60       250\n",
      "   macro avg       0.58      0.60      0.58       250\n",
      "weighted avg       0.60      0.60      0.59       250\n",
      "\n"
     ]
    }
   ],
   "source": [
    "print(\"\\n KNN Report:\\n\", classification_report(y_test, knn_pred))\n",
    "print(\"\\n Decision Tree Report:\\n\", classification_report(y_test, dt_pred))\n",
    "print(\"\\n Naive Bayes Report:\\n\", classification_report(y_test, nb_pred))\n"
   ]
  },
  {
   "cell_type": "code",
   "execution_count": null,
   "id": "61668ed5-c532-4d1c-bf09-ea823bbd8cfc",
   "metadata": {},
   "outputs": [],
   "source": []
  }
 ],
 "metadata": {
  "kernelspec": {
   "display_name": "Python 3 (ipykernel)",
   "language": "python",
   "name": "python3"
  },
  "language_info": {
   "codemirror_mode": {
    "name": "ipython",
    "version": 3
   },
   "file_extension": ".py",
   "mimetype": "text/x-python",
   "name": "python",
   "nbconvert_exporter": "python",
   "pygments_lexer": "ipython3",
   "version": "3.13.3"
  }
 },
 "nbformat": 4,
 "nbformat_minor": 5
}
